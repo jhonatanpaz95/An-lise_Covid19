{
 "cells": [
  {
   "cell_type": "code",
   "execution_count": 1,
   "id": "2b114fcf-6b00-47db-855f-d7d21f766389",
   "metadata": {},
   "outputs": [],
   "source": [
    "import math\n",
    "from typing import Iterator\n",
    "from datetime import datetime, timedelta\n",
    "\n",
    "import numpy as np\n",
    "import pandas as pd"
   ]
  },
  {
   "cell_type": "code",
   "execution_count": 2,
   "id": "b1e296e4-a8fb-46da-9f96-ab1d11c20555",
   "metadata": {},
   "outputs": [],
   "source": [
    "cases = pd.read_csv('https://raw.githubusercontent.com/CSSEGISandData/COVID-19/' + 'master/csse_covid_19_data/csse_covid_19_daily_reports/01-12-2021.csv', sep=',' )"
   ]
  },
  {
   "cell_type": "code",
   "execution_count": 3,
   "id": "90eafb9d-72bf-40a3-860c-639a17bea651",
   "metadata": {},
   "outputs": [
    {
     "data": {
      "text/html": [
       "<div>\n",
       "<style scoped>\n",
       "    .dataframe tbody tr th:only-of-type {\n",
       "        vertical-align: middle;\n",
       "    }\n",
       "\n",
       "    .dataframe tbody tr th {\n",
       "        vertical-align: top;\n",
       "    }\n",
       "\n",
       "    .dataframe thead th {\n",
       "        text-align: right;\n",
       "    }\n",
       "</style>\n",
       "<table border=\"1\" class=\"dataframe\">\n",
       "  <thead>\n",
       "    <tr style=\"text-align: right;\">\n",
       "      <th></th>\n",
       "      <th>FIPS</th>\n",
       "      <th>Admin2</th>\n",
       "      <th>Province_State</th>\n",
       "      <th>Country_Region</th>\n",
       "      <th>Last_Update</th>\n",
       "      <th>Lat</th>\n",
       "      <th>Long_</th>\n",
       "      <th>Confirmed</th>\n",
       "      <th>Deaths</th>\n",
       "      <th>Recovered</th>\n",
       "      <th>Active</th>\n",
       "      <th>Combined_Key</th>\n",
       "      <th>Incident_Rate</th>\n",
       "      <th>Case_Fatality_Ratio</th>\n",
       "    </tr>\n",
       "  </thead>\n",
       "  <tbody>\n",
       "    <tr>\n",
       "      <th>0</th>\n",
       "      <td>NaN</td>\n",
       "      <td>NaN</td>\n",
       "      <td>NaN</td>\n",
       "      <td>Afghanistan</td>\n",
       "      <td>2021-01-13 05:22:15</td>\n",
       "      <td>33.93911</td>\n",
       "      <td>67.709953</td>\n",
       "      <td>53584</td>\n",
       "      <td>2301</td>\n",
       "      <td>44608</td>\n",
       "      <td>6675</td>\n",
       "      <td>Afghanistan</td>\n",
       "      <td>137.647787</td>\n",
       "      <td>4.294192</td>\n",
       "    </tr>\n",
       "    <tr>\n",
       "      <th>1</th>\n",
       "      <td>NaN</td>\n",
       "      <td>NaN</td>\n",
       "      <td>NaN</td>\n",
       "      <td>Albania</td>\n",
       "      <td>2021-01-13 05:22:15</td>\n",
       "      <td>41.15330</td>\n",
       "      <td>20.168300</td>\n",
       "      <td>64627</td>\n",
       "      <td>1252</td>\n",
       "      <td>38421</td>\n",
       "      <td>24954</td>\n",
       "      <td>Albania</td>\n",
       "      <td>2245.708527</td>\n",
       "      <td>1.937271</td>\n",
       "    </tr>\n",
       "    <tr>\n",
       "      <th>2</th>\n",
       "      <td>NaN</td>\n",
       "      <td>NaN</td>\n",
       "      <td>NaN</td>\n",
       "      <td>Algeria</td>\n",
       "      <td>2021-01-13 05:22:15</td>\n",
       "      <td>28.03390</td>\n",
       "      <td>1.659600</td>\n",
       "      <td>102641</td>\n",
       "      <td>2816</td>\n",
       "      <td>69608</td>\n",
       "      <td>30217</td>\n",
       "      <td>Algeria</td>\n",
       "      <td>234.067409</td>\n",
       "      <td>2.743543</td>\n",
       "    </tr>\n",
       "    <tr>\n",
       "      <th>3</th>\n",
       "      <td>NaN</td>\n",
       "      <td>NaN</td>\n",
       "      <td>NaN</td>\n",
       "      <td>Andorra</td>\n",
       "      <td>2021-01-13 05:22:15</td>\n",
       "      <td>42.50630</td>\n",
       "      <td>1.521800</td>\n",
       "      <td>8682</td>\n",
       "      <td>86</td>\n",
       "      <td>7930</td>\n",
       "      <td>666</td>\n",
       "      <td>Andorra</td>\n",
       "      <td>11236.653077</td>\n",
       "      <td>0.990555</td>\n",
       "    </tr>\n",
       "    <tr>\n",
       "      <th>4</th>\n",
       "      <td>NaN</td>\n",
       "      <td>NaN</td>\n",
       "      <td>NaN</td>\n",
       "      <td>Angola</td>\n",
       "      <td>2021-01-13 05:22:15</td>\n",
       "      <td>-11.20270</td>\n",
       "      <td>17.873900</td>\n",
       "      <td>18343</td>\n",
       "      <td>422</td>\n",
       "      <td>15512</td>\n",
       "      <td>2409</td>\n",
       "      <td>Angola</td>\n",
       "      <td>55.811022</td>\n",
       "      <td>2.300605</td>\n",
       "    </tr>\n",
       "  </tbody>\n",
       "</table>\n",
       "</div>"
      ],
      "text/plain": [
       "   FIPS Admin2 Province_State Country_Region          Last_Update       Lat  \\\n",
       "0   NaN    NaN            NaN    Afghanistan  2021-01-13 05:22:15  33.93911   \n",
       "1   NaN    NaN            NaN        Albania  2021-01-13 05:22:15  41.15330   \n",
       "2   NaN    NaN            NaN        Algeria  2021-01-13 05:22:15  28.03390   \n",
       "3   NaN    NaN            NaN        Andorra  2021-01-13 05:22:15  42.50630   \n",
       "4   NaN    NaN            NaN         Angola  2021-01-13 05:22:15 -11.20270   \n",
       "\n",
       "       Long_  Confirmed  Deaths  Recovered  Active Combined_Key  \\\n",
       "0  67.709953      53584    2301      44608    6675  Afghanistan   \n",
       "1  20.168300      64627    1252      38421   24954      Albania   \n",
       "2   1.659600     102641    2816      69608   30217      Algeria   \n",
       "3   1.521800       8682      86       7930     666      Andorra   \n",
       "4  17.873900      18343     422      15512    2409       Angola   \n",
       "\n",
       "   Incident_Rate  Case_Fatality_Ratio  \n",
       "0     137.647787             4.294192  \n",
       "1    2245.708527             1.937271  \n",
       "2     234.067409             2.743543  \n",
       "3   11236.653077             0.990555  \n",
       "4      55.811022             2.300605  "
      ]
     },
     "execution_count": 3,
     "metadata": {},
     "output_type": "execute_result"
    }
   ],
   "source": [
    "cases.head()"
   ]
  },
  {
   "cell_type": "code",
   "execution_count": 4,
   "id": "25d1c7aa-c7cd-4c0f-b2c2-393589201c3d",
   "metadata": {},
   "outputs": [],
   "source": [
    "# Precisameos Iterar dentro de um intervalo de tempo definido para extraí-lo.\n",
    "def date_range(start_date: datetime, end_date: datetime) -> Iterator[datetime]:\n",
    "    date_range_days: int = (end_date - start_date).days\n",
    "    for lag in range(date_range_days):\n",
    "        yield start_date + timedelta(lag)"
   ]
  },
  {
   "cell_type": "code",
   "execution_count": 6,
   "id": "1a9f4e62-59b6-46a5-a093-3b1bf16aa2b2",
   "metadata": {},
   "outputs": [],
   "source": [
    "start_date = datetime(2021, 1, 1)\n",
    "end_date = datetime(2021, 12, 31)"
   ]
  },
  {
   "cell_type": "code",
   "execution_count": 7,
   "id": "3520fd98-7d7a-4ace-b8b4-98df5f8722d8",
   "metadata": {},
   "outputs": [],
   "source": [
    "# Selecionar as colunas de interesse e linhas referentes ao Brasil\n",
    "\n",
    "cases = None\n",
    "cases_is_empty = True\n",
    "\n",
    "for date in date_range(start_date=start_date, end_date=end_date):\n",
    "    date_str = date.strftime('%m-%d-%Y')\n",
    "    data_source_url = f'https://raw.githubusercontent.com/CSSEGISandData/COVID-19/master/csse_covid_19_data/csse_covid_19_daily_reports/{date_str}.csv'\n",
    "    case = pd.read_csv(data_source_url, sep=',')\n",
    "    \n",
    "    case = case.drop(['FIPS', 'Admin2', 'Last_Update', 'Lat', 'Long_', 'Recovered', 'Active', 'Case_Fatality_Ratio'], axis=1)\n",
    "    case = case.query('Country_Region == \"Brazil\"').reset_index(drop=True)\n",
    "    case['Date'] = pd.to_datetime(date.strftime('%Y-%m-%d'))\n",
    "    \n",
    "    if cases_is_empty:\n",
    "        cases = case\n",
    "        cases_is_empty = False\n",
    "    else:\n",
    "        cases = pd.concat([cases, case], ignore_index=True)"
   ]
  },
  {
   "cell_type": "code",
   "execution_count": 8,
   "id": "10a48449-eabc-42e8-82ae-c9f37e84f504",
   "metadata": {},
   "outputs": [
    {
     "data": {
      "text/html": [
       "<div>\n",
       "<style scoped>\n",
       "    .dataframe tbody tr th:only-of-type {\n",
       "        vertical-align: middle;\n",
       "    }\n",
       "\n",
       "    .dataframe tbody tr th {\n",
       "        vertical-align: top;\n",
       "    }\n",
       "\n",
       "    .dataframe thead th {\n",
       "        text-align: right;\n",
       "    }\n",
       "</style>\n",
       "<table border=\"1\" class=\"dataframe\">\n",
       "  <thead>\n",
       "    <tr style=\"text-align: right;\">\n",
       "      <th></th>\n",
       "      <th>Province_State</th>\n",
       "      <th>Country_Region</th>\n",
       "      <th>Confirmed</th>\n",
       "      <th>Deaths</th>\n",
       "      <th>Combined_Key</th>\n",
       "      <th>Incident_Rate</th>\n",
       "      <th>Date</th>\n",
       "    </tr>\n",
       "  </thead>\n",
       "  <tbody>\n",
       "    <tr>\n",
       "      <th>24</th>\n",
       "      <td>Sao Paulo</td>\n",
       "      <td>Brazil</td>\n",
       "      <td>1466191</td>\n",
       "      <td>46775</td>\n",
       "      <td>Sao Paulo, Brazil</td>\n",
       "      <td>3192.990778</td>\n",
       "      <td>2021-01-01</td>\n",
       "    </tr>\n",
       "    <tr>\n",
       "      <th>51</th>\n",
       "      <td>Sao Paulo</td>\n",
       "      <td>Brazil</td>\n",
       "      <td>1467953</td>\n",
       "      <td>46808</td>\n",
       "      <td>Sao Paulo, Brazil</td>\n",
       "      <td>3196.827966</td>\n",
       "      <td>2021-01-02</td>\n",
       "    </tr>\n",
       "    <tr>\n",
       "      <th>78</th>\n",
       "      <td>Sao Paulo</td>\n",
       "      <td>Brazil</td>\n",
       "      <td>1471422</td>\n",
       "      <td>46845</td>\n",
       "      <td>Sao Paulo, Brazil</td>\n",
       "      <td>3204.382565</td>\n",
       "      <td>2021-01-03</td>\n",
       "    </tr>\n",
       "    <tr>\n",
       "      <th>105</th>\n",
       "      <td>Sao Paulo</td>\n",
       "      <td>Brazil</td>\n",
       "      <td>1473670</td>\n",
       "      <td>46888</td>\n",
       "      <td>Sao Paulo, Brazil</td>\n",
       "      <td>3209.278136</td>\n",
       "      <td>2021-01-04</td>\n",
       "    </tr>\n",
       "    <tr>\n",
       "      <th>132</th>\n",
       "      <td>Sao Paulo</td>\n",
       "      <td>Brazil</td>\n",
       "      <td>1486551</td>\n",
       "      <td>47222</td>\n",
       "      <td>Sao Paulo, Brazil</td>\n",
       "      <td>3237.329676</td>\n",
       "      <td>2021-01-05</td>\n",
       "    </tr>\n",
       "  </tbody>\n",
       "</table>\n",
       "</div>"
      ],
      "text/plain": [
       "    Province_State Country_Region  Confirmed  Deaths       Combined_Key  \\\n",
       "24       Sao Paulo         Brazil    1466191   46775  Sao Paulo, Brazil   \n",
       "51       Sao Paulo         Brazil    1467953   46808  Sao Paulo, Brazil   \n",
       "78       Sao Paulo         Brazil    1471422   46845  Sao Paulo, Brazil   \n",
       "105      Sao Paulo         Brazil    1473670   46888  Sao Paulo, Brazil   \n",
       "132      Sao Paulo         Brazil    1486551   47222  Sao Paulo, Brazil   \n",
       "\n",
       "     Incident_Rate       Date  \n",
       "24     3192.990778 2021-01-01  \n",
       "51     3196.827966 2021-01-02  \n",
       "78     3204.382565 2021-01-03  \n",
       "105    3209.278136 2021-01-04  \n",
       "132    3237.329676 2021-01-05  "
      ]
     },
     "execution_count": 8,
     "metadata": {},
     "output_type": "execute_result"
    }
   ],
   "source": [
    "# Consultando o Estado de São Paulo\n",
    "\n",
    "cases.query('Province_State == \"Sao Paulo\"').head()"
   ]
  },
  {
   "cell_type": "code",
   "execution_count": 9,
   "id": "4232da7f-0063-413a-9b78-a3d6907e783c",
   "metadata": {},
   "outputs": [
    {
     "data": {
      "text/html": [
       "<div>\n",
       "<style scoped>\n",
       "    .dataframe tbody tr th:only-of-type {\n",
       "        vertical-align: middle;\n",
       "    }\n",
       "\n",
       "    .dataframe tbody tr th {\n",
       "        vertical-align: top;\n",
       "    }\n",
       "\n",
       "    .dataframe thead th {\n",
       "        text-align: right;\n",
       "    }\n",
       "</style>\n",
       "<table border=\"1\" class=\"dataframe\">\n",
       "  <thead>\n",
       "    <tr style=\"text-align: right;\">\n",
       "      <th></th>\n",
       "      <th>Province_State</th>\n",
       "      <th>Country_Region</th>\n",
       "      <th>Confirmed</th>\n",
       "      <th>Deaths</th>\n",
       "      <th>Combined_Key</th>\n",
       "      <th>Incident_Rate</th>\n",
       "      <th>Date</th>\n",
       "    </tr>\n",
       "  </thead>\n",
       "  <tbody>\n",
       "    <tr>\n",
       "      <th>0</th>\n",
       "      <td>Acre</td>\n",
       "      <td>Brazil</td>\n",
       "      <td>41689</td>\n",
       "      <td>796</td>\n",
       "      <td>Acre, Brazil</td>\n",
       "      <td>4726.992352</td>\n",
       "      <td>2021-01-01</td>\n",
       "    </tr>\n",
       "    <tr>\n",
       "      <th>1</th>\n",
       "      <td>Alagoas</td>\n",
       "      <td>Brazil</td>\n",
       "      <td>105091</td>\n",
       "      <td>2496</td>\n",
       "      <td>Alagoas, Brazil</td>\n",
       "      <td>3148.928928</td>\n",
       "      <td>2021-01-01</td>\n",
       "    </tr>\n",
       "    <tr>\n",
       "      <th>2</th>\n",
       "      <td>Amapa</td>\n",
       "      <td>Brazil</td>\n",
       "      <td>68361</td>\n",
       "      <td>926</td>\n",
       "      <td>Amapa, Brazil</td>\n",
       "      <td>8083.066602</td>\n",
       "      <td>2021-01-01</td>\n",
       "    </tr>\n",
       "    <tr>\n",
       "      <th>3</th>\n",
       "      <td>Amazonas</td>\n",
       "      <td>Brazil</td>\n",
       "      <td>201574</td>\n",
       "      <td>5295</td>\n",
       "      <td>Amazonas, Brazil</td>\n",
       "      <td>4863.536793</td>\n",
       "      <td>2021-01-01</td>\n",
       "    </tr>\n",
       "    <tr>\n",
       "      <th>4</th>\n",
       "      <td>Bahia</td>\n",
       "      <td>Brazil</td>\n",
       "      <td>494684</td>\n",
       "      <td>9159</td>\n",
       "      <td>Bahia, Brazil</td>\n",
       "      <td>3326.039611</td>\n",
       "      <td>2021-01-01</td>\n",
       "    </tr>\n",
       "  </tbody>\n",
       "</table>\n",
       "</div>"
      ],
      "text/plain": [
       "  Province_State Country_Region  Confirmed  Deaths      Combined_Key  \\\n",
       "0           Acre         Brazil      41689     796      Acre, Brazil   \n",
       "1        Alagoas         Brazil     105091    2496   Alagoas, Brazil   \n",
       "2          Amapa         Brazil      68361     926     Amapa, Brazil   \n",
       "3       Amazonas         Brazil     201574    5295  Amazonas, Brazil   \n",
       "4          Bahia         Brazil     494684    9159     Bahia, Brazil   \n",
       "\n",
       "   Incident_Rate       Date  \n",
       "0    4726.992352 2021-01-01  \n",
       "1    3148.928928 2021-01-01  \n",
       "2    8083.066602 2021-01-01  \n",
       "3    4863.536793 2021-01-01  \n",
       "4    3326.039611 2021-01-01  "
      ]
     },
     "execution_count": 9,
     "metadata": {},
     "output_type": "execute_result"
    }
   ],
   "source": [
    "# Visualização\n",
    "cases.head()"
   ]
  },
  {
   "cell_type": "code",
   "execution_count": null,
   "id": "ce6cf1d8-2a3f-425a-bfca-a0e073052cdc",
   "metadata": {},
   "outputs": [],
   "source": [
    "cases.shape"
   ]
  },
  {
   "cell_type": "code",
   "execution_count": null,
   "id": "31a42841-92cb-4dfd-96a5-4bd609177f91",
   "metadata": {},
   "outputs": [],
   "source": [
    "# Informações sobre os dados / Schemas\n",
    "cases.info()"
   ]
  },
  {
   "cell_type": "code",
   "execution_count": null,
   "id": "abb7a854-27c4-4041-85a7-8b9ec355777f",
   "metadata": {},
   "outputs": [],
   "source": [
    "cases = cases.rename(\n",
    "    columns={\n",
    "        'Province_State': 'state',\n",
    "        'Country_Region': 'country'\n",
    "    }\n",
    ")\n",
    "\n",
    "\n",
    "for col in cases.columns:\n",
    "    cases = cases.rename(columns={col: col.lower()})"
   ]
  },
  {
   "cell_type": "code",
   "execution_count": null,
   "id": "42e60f84-eee8-4c4a-b23c-92eb3a303c85",
   "metadata": {},
   "outputs": [],
   "source": [
    "cases.head()"
   ]
  },
  {
   "cell_type": "code",
   "execution_count": null,
   "id": "a3dab935-f4e8-4b25-9e97-8b2f221095fb",
   "metadata": {},
   "outputs": [],
   "source": [
    "# Ajustando o nome dos estados.\n",
    "states_map = {\n",
    "    'Amapa': 'amapá',\n",
    "    'Ceara': 'Ceará',\n",
    "    'Espirito Santo': 'Espírito Santo',\n",
    "    'Goias': 'Goiás',\n",
    "    'Para': 'Pará',\n",
    "    'Paraiba': 'Paraíba',\n",
    "    'Parana': 'Paraná',\n",
    "    'Piaui': 'Piauí',\n",
    "    'Rondonia': 'Rondônia',\n",
    "    'Sao Paulo': 'São Paulo',\n",
    "}\n",
    "\n",
    "cases['state'] = cases['state'].apply(lambda state: states_map.get(state) if state in states_map.keys() else state)"
   ]
  },
  {
   "cell_type": "code",
   "execution_count": null,
   "id": "d1dbebb6-8e37-4f36-861d-77835be6e7fa",
   "metadata": {},
   "outputs": [],
   "source": [
    "cases['month'] = cases['date'].apply(lambda date: date.strftime('%Y-%m'))\n",
    "cases['year'] = cases['date'].apply(lambda date: date.strftime('%Y'))"
   ]
  },
  {
   "cell_type": "code",
   "execution_count": null,
   "id": "0c1becc2-ae34-4623-92d7-d15f153ee830",
   "metadata": {},
   "outputs": [],
   "source": [
    "cases['population'] = round(100000 * (cases['confirmed'] / cases['incident_rate']))\n",
    "cases = cases.drop('incident_rate', axis=1)"
   ]
  },
  {
   "cell_type": "code",
   "execution_count": null,
   "id": "072e1ca6-2a7c-4192-9dcb-decf3f5e1bb4",
   "metadata": {},
   "outputs": [],
   "source": [
    "cases_ = None\n",
    "cases_is_empty = True\n",
    "\n",
    "def get_trend(rate: float) -> str:\n",
    "\n",
    "    if np.isnan(rate):\n",
    "        return np.NaN\n",
    "\n",
    "    if rate < 0.75:\n",
    "        status = 'downward'\n",
    "    elif rate > 1.15:\n",
    "        status = 'upward'\n",
    "    else:\n",
    "        status = 'stable'\n",
    "\n",
    "    return status\n",
    "\n",
    "\n",
    "\n",
    "for state in cases['state'].drop_duplicates():\n",
    "\n",
    "    cases_per_state = cases.query(f'state == \"{state}\"').reset_index(drop=True)\n",
    "    cases_per_state = cases_per_state.sort_values(by=['date'])\n",
    "\n",
    "\n",
    "    cases_per_state['confirmed_1d'] = cases_per_state['confirmed'].diff(periods=1)\n",
    "    cases_per_state['confirmed_moving_avg_7d'] = np.ceil(cases_per_state['confirmed_1d'].rolling(window=7).mean())\n",
    "    cases_per_state['confirmed_moving_avg_7d_rate_14d'] = cases_per_state['confirmed_moving_avg_7d']/cases_per_state['confirmed_moving_avg_7d'].shift(periods=14)\n",
    "    cases_per_state['confirmed_trend'] = cases_per_state['confirmed_moving_avg_7d_rate_14d'].apply(get_trend)\n",
    "\n",
    "    cases_per_state['deaths_1d'] = cases_per_state['deaths'].diff(periods=1)\n",
    "    cases_per_state['deaths_moving_avg_7d'] = np.ceil(cases_per_state['deaths_1d'].rolling(window=7).mean())\n",
    "    cases_per_state['deaths_moving_avg_7d_rate_14d'] = cases_per_state['deaths_moving_avg_7d']/cases_per_state['deaths_moving_avg_7d'].shift(periods=14)\n",
    "    cases_per_state['deaths_trend'] = cases_per_state['deaths_moving_avg_7d_rate_14d'].apply(get_trend)\n",
    "\n",
    "    if cases_is_empty:\n",
    "        cases_ = cases_per_state\n",
    "        cases_is_empty = False\n",
    "    else:\n",
    "        cases_ = pd.concat([cases_, cases_per_state], ignore_index=True)\n",
    "\n",
    "cases = cases_\n",
    "cases_ = None\n",
    "    "
   ]
  },
  {
   "cell_type": "code",
   "execution_count": null,
   "id": "b7194c2f-e618-40b5-adee-ec83eb13130b",
   "metadata": {},
   "outputs": [],
   "source": [
    "# Garantir o tipo do dado é fundamental para a consistência da base de dados. Vamos fazero type casting das colunas.\n",
    "cases['population'] = cases['population'].astype('Int32')\n",
    "cases['confirmed_1d'] = cases['confirmed_1d'].astype('Int32')\n",
    "cases['confirmed_moving_avg_7d'] = cases['confirmed_moving_avg_7d'].astype('Int32')\n",
    "cases['deaths_1d'] = cases['deaths_1d'].astype('Int32')\n",
    "cases['deaths_moving_avg_7d'] = cases['deaths_moving_avg_7d'].astype('Int32')"
   ]
  },
  {
   "cell_type": "code",
   "execution_count": null,
   "id": "8382374a-cba3-4bbf-bef9-b2574a4d1beb",
   "metadata": {},
   "outputs": [],
   "source": [
    "#Reorganizando as colunas e conferindo o resultado final.\n",
    "cases = cases[['date','country', 'state', 'population', 'confirmed', 'confirmed_1d','confirmed_moving_avg_7d',\n",
    "               'confirmed_moving_avg_7d_rate_14d','confirmed_trend', 'deaths_1d', 'deaths_moving_avg_7d',\n",
    "               'deaths_moving_avg_7d_rate_14d','deaths_trend','month', 'year'\n",
    "              ]]"
   ]
  },
  {
   "cell_type": "code",
   "execution_count": null,
   "id": "357cd93b-edb4-4783-9768-951a74ebbd3e",
   "metadata": {},
   "outputs": [],
   "source": [
    "cases.head(n=25)"
   ]
  },
  {
   "cell_type": "code",
   "execution_count": null,
   "id": "a26ab04e-6060-4177-987f-826923b15f85",
   "metadata": {},
   "outputs": [],
   "source": [
    "cases.to_csv('./covid-cases.csv', sep=',', index=False)"
   ]
  },
  {
   "cell_type": "code",
   "execution_count": null,
   "id": "5bb4b108-89ef-4a22-814a-3edb39148142",
   "metadata": {},
   "outputs": [],
   "source": [
    "#Salvando arquivo num DataFrame.\n",
    "vaccines = pd.read_csv('https://covid.ourworldindata.org/data/owid-covid-data.csv', sep=',', parse_dates=[3])"
   ]
  },
  {
   "cell_type": "code",
   "execution_count": null,
   "id": "e37be4fe-92e2-42b5-a81e-b88dab29d0d9",
   "metadata": {},
   "outputs": [],
   "source": [
    "# Visualização\n",
    "vaccines.head()"
   ]
  },
  {
   "cell_type": "code",
   "execution_count": null,
   "id": "7c595e3c-4440-45b6-b703-9d668772db8f",
   "metadata": {},
   "outputs": [],
   "source": [
    "# Vamos selecionar as colunas de interesse e as linhas referentes ao Brasil\n",
    "vaccines = vaccines.query('location == \"Brazil\"').reset_index(drop=True)\n",
    "vaccines = vaccines[['date','location', 'population', 'total_vaccinations','people_vaccinated','people_fully_vaccinated', 'total_boosters',]]"
   ]
  },
  {
   "cell_type": "code",
   "execution_count": null,
   "id": "fe3b1686-f673-45bd-9a5a-ce930595d7f1",
   "metadata": {},
   "outputs": [],
   "source": [
    "vaccines.head()"
   ]
  },
  {
   "cell_type": "code",
   "execution_count": null,
   "id": "f8a0d2e2-d10a-457c-9bfc-c1b079bb6448",
   "metadata": {},
   "outputs": [],
   "source": [
    "vaccines.info()"
   ]
  },
  {
   "cell_type": "code",
   "execution_count": null,
   "id": "ac87b290-05d6-4739-9f0e-dd0aaca75880",
   "metadata": {},
   "outputs": [],
   "source": [
    "vaccines = vaccines.fillna(method='ffill')"
   ]
  },
  {
   "cell_type": "code",
   "execution_count": null,
   "id": "e2f65f4f-e070-4f05-a218-411851e6daa5",
   "metadata": {},
   "outputs": [],
   "source": [
    "vaccines = vaccines[(vaccines['date'] >= '2021-01-01') & (vaccines['date'] <= '2021-12-31')].reset_index(drop=True)"
   ]
  },
  {
   "cell_type": "code",
   "execution_count": null,
   "id": "e2b338eb-4bbc-440c-9e79-f922e9081fa9",
   "metadata": {},
   "outputs": [],
   "source": [
    "# Agora vamos alterar o nome das colunas.\n",
    "vaccines = vaccines.rename(\n",
    "    columns={\n",
    "        'location': 'country',\n",
    "        'total_vaccinations': 'total',\n",
    "        'people_vaccinated': 'one_shot',\n",
    "        'people_fully_vaccinated': 'two_shots',\n",
    "        'total_boosters': 'three_shots',\n",
    "    }\n",
    ")"
   ]
  },
  {
   "cell_type": "code",
   "execution_count": null,
   "id": "68d238cc-1a0a-4fdf-9a69-253e29d1aaf3",
   "metadata": {},
   "outputs": [],
   "source": [
    "vaccines['month'] = vaccines['date'].apply(lambda date: date.strftime('%Y-%m'))\n",
    "vaccines['year'] = vaccines['date'].apply(lambda date: date.strftime('%Y'))"
   ]
  },
  {
   "cell_type": "code",
   "execution_count": null,
   "id": "890cdbab-f43d-4563-994b-efa327d49928",
   "metadata": {},
   "outputs": [],
   "source": [
    "vaccines['one_shot_perc'] = round(vaccines['one_shot'] / vaccines['population'], 4)\n",
    "vaccines['two_shots_perc'] = round(vaccines['two_shots'] / vaccines['population'], 4)\n",
    "vaccines['three_shots_perc'] = round(vaccines['three_shots'] / vaccines['population'], 4)"
   ]
  },
  {
   "cell_type": "code",
   "execution_count": null,
   "id": "6c43a525-3181-44ae-8939-45a2ab1434b7",
   "metadata": {},
   "outputs": [],
   "source": [
    "# Garantir o tipo do dado é fundamental para a consistência da base de dados. Vamos fazer o type casting das colunas.\n",
    "vaccines['population'] = vaccines['population'].astype('Int32')\n",
    "vaccines['total'] = vaccines['total'].astype('Int32')\n",
    "vaccines['one_shot'] = vaccines['one_shot'].astype('Int32')\n",
    "vaccines['two_shots'] = vaccines['two_shots'].astype('Int32')\n",
    "vaccines['three_shots'] = vaccines['three_shots'].astype('Int32')"
   ]
  },
  {
   "cell_type": "code",
   "execution_count": null,
   "id": "2ca82cdc-fd49-4cde-8898-6e08335f56d0",
   "metadata": {},
   "outputs": [],
   "source": [
    "# vamos reorganizar as colunas e conferir o resultado final\n",
    "vaccines = vaccines[['date', 'country', 'population', 'total', 'one_shot', 'one_shot_perc', 'two_shots','two_shots_perc', 'three_shots' ,'three_shots_perc', 'month', 'year']]"
   ]
  },
  {
   "cell_type": "code",
   "execution_count": null,
   "id": "6856258e-f3fe-4c58-a10e-430fc22b6483",
   "metadata": {},
   "outputs": [],
   "source": [
    "vaccines.tail()"
   ]
  },
  {
   "cell_type": "code",
   "execution_count": null,
   "id": "64924120-5380-47ad-ad51-ea6aeddff25b",
   "metadata": {},
   "outputs": [],
   "source": [
    "vaccines.to_csv('./covid-vaccines.csv', sep=',', index=False)"
   ]
  },
  {
   "cell_type": "code",
   "execution_count": null,
   "id": "dd86e8bf-01e4-4de8-9975-bbeed8ead62a",
   "metadata": {},
   "outputs": [],
   "source": []
  },
  {
   "cell_type": "code",
   "execution_count": null,
   "id": "69e82044-685a-42a0-9c09-9a28aaac25a3",
   "metadata": {},
   "outputs": [],
   "source": []
  }
 ],
 "metadata": {
  "kernelspec": {
   "display_name": "Python 3 (ipykernel)",
   "language": "python",
   "name": "python3"
  },
  "language_info": {
   "codemirror_mode": {
    "name": "ipython",
    "version": 3
   },
   "file_extension": ".py",
   "mimetype": "text/x-python",
   "name": "python",
   "nbconvert_exporter": "python",
   "pygments_lexer": "ipython3",
   "version": "3.11.7"
  }
 },
 "nbformat": 4,
 "nbformat_minor": 5
}
